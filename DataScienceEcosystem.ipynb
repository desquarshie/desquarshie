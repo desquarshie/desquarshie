{
 "cells": [
  {
   "cell_type": "markdown",
   "id": "32bd3b87-8fea-4701-85b5-66dffc49316e",
   "metadata": {},
   "source": [
    "# Data Science Tools and Ecosystem"
   ]
  },
  {
   "cell_type": "markdown",
   "id": "09c60a89-b77f-4479-9f51-82cc266a5759",
   "metadata": {},
   "source": [
    "In this notebook, Data Science Tools and Ecosystem are summarized."
   ]
  },
  {
   "cell_type": "markdown",
   "id": "6b0bd141-109a-4956-aa42-84700dd4c032",
   "metadata": {},
   "source": [
    "Some of the popular languages that Data Scientists use are:\n",
    "\n",
    "1. python\n",
    "2. R\n",
    "3. SQL\n",
    "4. Julia\n",
    "5. Scala"
   ]
  },
  {
   "cell_type": "markdown",
   "id": "3151696a-9585-4270-a11d-40735526f1e2",
   "metadata": {},
   "source": [
    "Some of the commonly used libraries used by Data Scientists include:\n",
    "\n",
    "1.Pandas\n",
    "\n",
    "2.Numpy\n",
    "\n",
    "3.Scikit-learn\n",
    " \n",
    "4.Seaborn\n",
    "\n",
    "5.Matplotlib"
   ]
  },
  {
   "cell_type": "markdown",
   "id": "a759cadc-bc16-419b-99e1-c9f1fd850c4f",
   "metadata": {},
   "source": [
    "|Data Science Tools|\n",
    "--------------------\n",
    "Watson Studio Desktop\n",
    "Jupyter Notebook\n",
    "R Studio\n",
    "Microsoft Azure\n"
   ]
  },
  {
   "cell_type": "markdown",
   "id": "58964d1f-e4a7-48ec-8e65-2b647d98db07",
   "metadata": {},
   "source": [
    "### Below are a few examples of evaluating arithmetic expressions in Python\n",
    "\n",
    "z*w"
   ]
  },
  {
   "cell_type": "markdown",
   "id": "896644a2-ef99-466f-83a2-837b8000c887",
   "metadata": {},
   "source": [
    " This a simple arithmetic expression to multiply then add integers\n",
    " "
   ]
  },
  {
   "cell_type": "code",
   "execution_count": 2,
   "id": "c9e95e3b-390e-4edb-b787-3ca0bfc0e98a",
   "metadata": {},
   "outputs": [
    {
     "data": {
      "text/plain": [
       "17"
      ]
     },
     "execution_count": 2,
     "metadata": {},
     "output_type": "execute_result"
    }
   ],
   "source": [
    "#This a simple arithmetic expression to multiply then add integers\n",
    "(3*4)+5"
   ]
  },
  {
   "cell_type": "code",
   "execution_count": 3,
   "id": "cefce9d2-7d99-479b-8eed-59b0fc3ad09b",
   "metadata": {},
   "outputs": [
    {
     "data": {
      "text/plain": [
       "3.3333333333333335"
      ]
     },
     "execution_count": 3,
     "metadata": {},
     "output_type": "execute_result"
    }
   ],
   "source": [
    "# This will convert 200 minutes to hours by diving by 60\n",
    "\n",
    "200/60"
   ]
  },
  {
   "cell_type": "markdown",
   "id": "263e548a-1636-4151-9f5e-efc2e6688c97",
   "metadata": {},
   "source": [
    "**Objectives**\n",
    "\n",
    "List popular languages for Data Science.\n",
    "\n",
    "* python\n",
    "\n",
    "* R\n",
    "\n",
    "* SQL\n",
    "\n",
    "* Julia\n",
    "\n",
    "* Scala"
   ]
  },
  {
   "cell_type": "markdown",
   "id": "fc4d5e28-f685-4cb2-a6bb-ee7afcbfb690",
   "metadata": {},
   "source": [
    "## Author\n",
    "\n",
    "Desmond Quarshie"
   ]
  },
  {
   "cell_type": "code",
   "execution_count": null,
   "id": "6ad0dc20-669f-4279-804f-fa1eb438da97",
   "metadata": {},
   "outputs": [],
   "source": []
  },
  {
   "cell_type": "code",
   "execution_count": null,
   "id": "e3ec8c79-1c5f-4fcc-83e7-607708343e7c",
   "metadata": {},
   "outputs": [],
   "source": []
  }
 ],
 "metadata": {
  "kernelspec": {
   "display_name": "Python 3 (ipykernel)",
   "language": "python",
   "name": "python3"
  },
  "language_info": {
   "codemirror_mode": {
    "name": "ipython",
    "version": 3
   },
   "file_extension": ".py",
   "mimetype": "text/x-python",
   "name": "python",
   "nbconvert_exporter": "python",
   "pygments_lexer": "ipython3",
   "version": "3.9.19"
  }
 },
 "nbformat": 4,
 "nbformat_minor": 5
}
